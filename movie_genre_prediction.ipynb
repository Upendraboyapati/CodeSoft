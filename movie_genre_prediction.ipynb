{
 "cells": [
  {
   "cell_type": "code",
   "execution_count": 1,
   "id": "b835cb34-27b5-4401-8187-0a83eac0266d",
   "metadata": {},
   "outputs": [],
   "source": [
    "# Import the libraries needed for our task\n",
    "import pandas as pd\n",
    "from sklearn.feature_extraction.text import TfidfVectorizer\n",
    "from sklearn.linear_model import LogisticRegression\n",
    "from sklearn.preprocessing import StandardScaler\n"
   ]
  },
  {
   "cell_type": "code",
   "execution_count": 2,
   "id": "91ee8578-030e-4627-8a71-0dc4a21fdeb5",
   "metadata": {},
   "outputs": [],
   "source": [
    "# Load our datasets: training and testing data\n",
    "trainset = pd.read_csv(\"train_data.csv\", delimiter=\":::\", engine='python', header=None, names=[\"id\", \"moviename\", \"genre\", \"plot\"])\n",
    "testset = pd.read_csv(\"test_data.csv\", delimiter=\":::\", engine='python', header=None, names=[\"id\", \"moviename\", \"plot\"])\n"
   ]
  },
  {
   "cell_type": "code",
   "execution_count": 5,
   "id": "60944550-0929-490b-bafb-5690014df4d7",
   "metadata": {},
   "outputs": [
    {
     "name": "stdout",
     "output_type": "stream",
     "text": [
      "   id                           moviename       genre  \\\n",
      "0   1       Oscar et la dame rose (2009)       drama    \n",
      "1   2                       Cupid (1997)    thriller    \n",
      "2   3   Young, Wild and Wonderful (1980)       adult    \n",
      "3   4              The Secret Sin (1915)       drama    \n",
      "4   5             The Unrecovered (2007)       drama    \n",
      "\n",
      "                                                plot  \n",
      "0   Listening in to a conversation between his do...  \n",
      "1   A brother and sister with a past incestuous r...  \n",
      "2   As the bus empties the students for their fie...  \n",
      "3   To help their unemployed father make ends mee...  \n",
      "4   The film's title refers not only to the un-re...  \n"
     ]
    }
   ],
   "source": [
    "trainset_head = trainset.head()\n",
    "print(trainset_head)"
   ]
  },
  {
   "cell_type": "code",
   "execution_count": 6,
   "id": "e108655b-f078-4b35-8113-762e875bc7a2",
   "metadata": {},
   "outputs": [
    {
     "name": "stdout",
     "output_type": "stream",
     "text": [
      "\n",
      "Shape of training dataset (rows, columns): (54214, 4)\n"
     ]
    }
   ],
   "source": [
    "# Get the shape of our training dataset\n",
    "trainset_shape = trainset.shape\n",
    "print(\"\\nShape of training dataset (rows, columns):\", trainset_shape)\n"
   ]
  },
  {
   "cell_type": "code",
   "execution_count": 7,
   "id": "941c81f6-d0c3-4552-a383-1b851761ea91",
   "metadata": {},
   "outputs": [
    {
     "name": "stdout",
     "output_type": "stream",
     "text": [
      "<class 'pandas.core.frame.DataFrame'>\n",
      "RangeIndex: 54214 entries, 0 to 54213\n",
      "Data columns (total 4 columns):\n",
      " #   Column     Non-Null Count  Dtype \n",
      "---  ------     --------------  ----- \n",
      " 0   id         54214 non-null  int64 \n",
      " 1   moviename  54214 non-null  object\n",
      " 2   genre      54214 non-null  object\n",
      " 3   plot       54214 non-null  object\n",
      "dtypes: int64(1), object(3)\n",
      "memory usage: 1.7+ MB\n",
      "\n",
      "Information about training dataset:\n",
      "None\n"
     ]
    }
   ],
   "source": [
    "# Get concise summary of our training dataset\n",
    "trainset_info = trainset.info()\n",
    "print(\"\\nInformation about training dataset:\")\n",
    "print(trainset_info)"
   ]
  },
  {
   "cell_type": "code",
   "execution_count": 8,
   "id": "1a4b13b3-592f-44c1-b1f1-1bb516836b92",
   "metadata": {},
   "outputs": [
    {
     "name": "stdout",
     "output_type": "stream",
     "text": [
      "\n",
      "Descriptive statistics of training dataset:\n",
      "                 id\n",
      "count  54214.000000\n",
      "mean   27107.500000\n",
      "std    15650.378084\n",
      "min        1.000000\n",
      "25%    13554.250000\n",
      "50%    27107.500000\n",
      "75%    40660.750000\n",
      "max    54214.000000\n"
     ]
    }
   ],
   "source": [
    "# Get descriptive statistics of our training dataset\n",
    "trainset_describe = trainset.describe()\n",
    "print(\"\\nDescriptive statistics of training dataset:\")\n",
    "print(trainset_describe)\n"
   ]
  },
  {
   "cell_type": "code",
   "execution_count": 9,
   "id": "804ba459-0d49-4dde-866f-5a8937eb0667",
   "metadata": {},
   "outputs": [
    {
     "name": "stdout",
     "output_type": "stream",
     "text": [
      "\n",
      "First few rows of testing dataset:\n",
      "   id                      moviename  \\\n",
      "0   1          Edgar's Lunch (1998)    \n",
      "1   2      La guerra de papá (1977)    \n",
      "2   3   Off the Beaten Track (2010)    \n",
      "3   4        Meu Amigo Hindu (2015)    \n",
      "4   5             Er nu zhai (1955)    \n",
      "\n",
      "                                                plot  \n",
      "0   L.R. Brane loves his life - his car, his apar...  \n",
      "1   Spain, March 1964: Quico is a very naughty ch...  \n",
      "2   One year in the life of Albin and his family ...  \n",
      "3   His father has died, he hasn't spoken with hi...  \n",
      "4   Before he was known internationally as a mart...  \n"
     ]
    }
   ],
   "source": [
    "#Display the first few rows of our testing dataset\n",
    "testset_head = testset.head()\n",
    "print(\"\\nFirst few rows of testing dataset:\")\n",
    "print(testset_head)"
   ]
  },
  {
   "cell_type": "code",
   "execution_count": 10,
   "id": "fca5f55a-8234-4090-bae6-938337855d75",
   "metadata": {},
   "outputs": [
    {
     "name": "stdout",
     "output_type": "stream",
     "text": [
      "\n",
      "Shape of testing dataset (rows, columns): (54200, 3)\n"
     ]
    }
   ],
   "source": [
    "# Get the shape of our testing dataset\n",
    "testset_shape = testset.shape\n",
    "print(\"\\nShape of testing dataset (rows, columns):\", testset_shape)\n",
    "\n"
   ]
  },
  {
   "cell_type": "code",
   "execution_count": 11,
   "id": "599689b3-5a2e-4571-bc0c-cc1a799d796b",
   "metadata": {},
   "outputs": [
    {
     "name": "stdout",
     "output_type": "stream",
     "text": [
      "<class 'pandas.core.frame.DataFrame'>\n",
      "RangeIndex: 54200 entries, 0 to 54199\n",
      "Data columns (total 3 columns):\n",
      " #   Column     Non-Null Count  Dtype \n",
      "---  ------     --------------  ----- \n",
      " 0   id         54200 non-null  int64 \n",
      " 1   moviename  54200 non-null  object\n",
      " 2   plot       54200 non-null  object\n",
      "dtypes: int64(1), object(2)\n",
      "memory usage: 1.2+ MB\n",
      "\n",
      "Information about testing dataset:\n",
      "None\n"
     ]
    }
   ],
   "source": [
    "#Get concise summary of our testing dataset\n",
    "testset_info = testset.info()\n",
    "print(\"\\nInformation about testing dataset:\")\n",
    "print(testset_info)"
   ]
  },
  {
   "cell_type": "code",
   "execution_count": 12,
   "id": "f71ba9b8-ef30-4ee7-a71b-6925cc15b20a",
   "metadata": {},
   "outputs": [
    {
     "name": "stdout",
     "output_type": "stream",
     "text": [
      "\n",
      "Descriptive statistics of testing dataset:\n",
      "                 id\n",
      "count  54200.000000\n",
      "mean   27100.500000\n",
      "std    15646.336632\n",
      "min        1.000000\n",
      "25%    13550.750000\n",
      "50%    27100.500000\n",
      "75%    40650.250000\n",
      "max    54200.000000\n"
     ]
    }
   ],
   "source": [
    "# Get descriptive statistics of our testing dataset\n",
    "testset_describe = testset.describe()\n",
    "print(\"\\nDescriptive statistics of testing dataset:\")\n",
    "print(testset_describe)\n"
   ]
  },
  {
   "cell_type": "code",
   "execution_count": 13,
   "id": "2e08b7d2-c2cf-4fbe-9287-02acb6325114",
   "metadata": {},
   "outputs": [],
   "source": [
    "# Prepare our text data for analysis using TF-IDF method\n",
    "# This helps us understand which words are important in our plots\n",
    "vectorizer = TfidfVectorizer(max_features=5000)\n",
    "X_train = vectorizer.fit_transform(trainset['plot'])  # Extract features from training plot descriptions\n",
    "y_train = trainset['genre']  # Identify the genres for our training data\n"
   ]
  },
  {
   "cell_type": "code",
   "execution_count": 14,
   "id": "110b187c-c5b9-4635-865a-5aa132046a8b",
   "metadata": {},
   "outputs": [],
   "source": [
    "# Normalize our training data to ensure all features have the same scale\n",
    "scaler = StandardScaler(with_mean=False)  # Scale without changing the mean to avoid sparse matrix issues\n",
    "X_train_scaled = scaler.fit_transform(X_train)  # Scale our training features\n"
   ]
  },
  {
   "cell_type": "code",
   "execution_count": 16,
   "id": "a153ecc9-d32e-4728-9187-4419a170980c",
   "metadata": {},
   "outputs": [
    {
     "data": {
      "text/html": [
       "<style>#sk-container-id-2 {color: black;background-color: white;}#sk-container-id-2 pre{padding: 0;}#sk-container-id-2 div.sk-toggleable {background-color: white;}#sk-container-id-2 label.sk-toggleable__label {cursor: pointer;display: block;width: 100%;margin-bottom: 0;padding: 0.3em;box-sizing: border-box;text-align: center;}#sk-container-id-2 label.sk-toggleable__label-arrow:before {content: \"▸\";float: left;margin-right: 0.25em;color: #696969;}#sk-container-id-2 label.sk-toggleable__label-arrow:hover:before {color: black;}#sk-container-id-2 div.sk-estimator:hover label.sk-toggleable__label-arrow:before {color: black;}#sk-container-id-2 div.sk-toggleable__content {max-height: 0;max-width: 0;overflow: hidden;text-align: left;background-color: #f0f8ff;}#sk-container-id-2 div.sk-toggleable__content pre {margin: 0.2em;color: black;border-radius: 0.25em;background-color: #f0f8ff;}#sk-container-id-2 input.sk-toggleable__control:checked~div.sk-toggleable__content {max-height: 200px;max-width: 100%;overflow: auto;}#sk-container-id-2 input.sk-toggleable__control:checked~label.sk-toggleable__label-arrow:before {content: \"▾\";}#sk-container-id-2 div.sk-estimator input.sk-toggleable__control:checked~label.sk-toggleable__label {background-color: #d4ebff;}#sk-container-id-2 div.sk-label input.sk-toggleable__control:checked~label.sk-toggleable__label {background-color: #d4ebff;}#sk-container-id-2 input.sk-hidden--visually {border: 0;clip: rect(1px 1px 1px 1px);clip: rect(1px, 1px, 1px, 1px);height: 1px;margin: -1px;overflow: hidden;padding: 0;position: absolute;width: 1px;}#sk-container-id-2 div.sk-estimator {font-family: monospace;background-color: #f0f8ff;border: 1px dotted black;border-radius: 0.25em;box-sizing: border-box;margin-bottom: 0.5em;}#sk-container-id-2 div.sk-estimator:hover {background-color: #d4ebff;}#sk-container-id-2 div.sk-parallel-item::after {content: \"\";width: 100%;border-bottom: 1px solid gray;flex-grow: 1;}#sk-container-id-2 div.sk-label:hover label.sk-toggleable__label {background-color: #d4ebff;}#sk-container-id-2 div.sk-serial::before {content: \"\";position: absolute;border-left: 1px solid gray;box-sizing: border-box;top: 0;bottom: 0;left: 50%;z-index: 0;}#sk-container-id-2 div.sk-serial {display: flex;flex-direction: column;align-items: center;background-color: white;padding-right: 0.2em;padding-left: 0.2em;position: relative;}#sk-container-id-2 div.sk-item {position: relative;z-index: 1;}#sk-container-id-2 div.sk-parallel {display: flex;align-items: stretch;justify-content: center;background-color: white;position: relative;}#sk-container-id-2 div.sk-item::before, #sk-container-id-2 div.sk-parallel-item::before {content: \"\";position: absolute;border-left: 1px solid gray;box-sizing: border-box;top: 0;bottom: 0;left: 50%;z-index: -1;}#sk-container-id-2 div.sk-parallel-item {display: flex;flex-direction: column;z-index: 1;position: relative;background-color: white;}#sk-container-id-2 div.sk-parallel-item:first-child::after {align-self: flex-end;width: 50%;}#sk-container-id-2 div.sk-parallel-item:last-child::after {align-self: flex-start;width: 50%;}#sk-container-id-2 div.sk-parallel-item:only-child::after {width: 0;}#sk-container-id-2 div.sk-dashed-wrapped {border: 1px dashed gray;margin: 0 0.4em 0.5em 0.4em;box-sizing: border-box;padding-bottom: 0.4em;background-color: white;}#sk-container-id-2 div.sk-label label {font-family: monospace;font-weight: bold;display: inline-block;line-height: 1.2em;}#sk-container-id-2 div.sk-label-container {text-align: center;}#sk-container-id-2 div.sk-container {/* jupyter's `normalize.less` sets `[hidden] { display: none; }` but bootstrap.min.css set `[hidden] { display: none !important; }` so we also need the `!important` here to be able to override the default hidden behavior on the sphinx rendered scikit-learn.org. See: https://github.com/scikit-learn/scikit-learn/issues/21755 */display: inline-block !important;position: relative;}#sk-container-id-2 div.sk-text-repr-fallback {display: none;}</style><div id=\"sk-container-id-2\" class=\"sk-top-container\"><div class=\"sk-text-repr-fallback\"><pre>LogisticRegression(max_iter=5000)</pre><b>In a Jupyter environment, please rerun this cell to show the HTML representation or trust the notebook. <br />On GitHub, the HTML representation is unable to render, please try loading this page with nbviewer.org.</b></div><div class=\"sk-container\" hidden><div class=\"sk-item\"><div class=\"sk-estimator sk-toggleable\"><input class=\"sk-toggleable__control sk-hidden--visually\" id=\"sk-estimator-id-2\" type=\"checkbox\" checked><label for=\"sk-estimator-id-2\" class=\"sk-toggleable__label sk-toggleable__label-arrow\">LogisticRegression</label><div class=\"sk-toggleable__content\"><pre>LogisticRegression(max_iter=5000)</pre></div></div></div></div></div>"
      ],
      "text/plain": [
       "LogisticRegression(max_iter=5000)"
      ]
     },
     "execution_count": 16,
     "metadata": {},
     "output_type": "execute_result"
    }
   ],
   "source": [
    "# Train our classifier, a logistic regression model\n",
    "# This model learns patterns in our training data to predict genres\n",
    "classifier = LogisticRegression(max_iter=5000)\n",
    "classifier.fit(X_train_scaled, y_train)  # Fit the model to our scaled training data\n",
    "\n"
   ]
  },
  {
   "cell_type": "code",
   "execution_count": 17,
   "id": "4a4f61a6-df5a-44cd-a400-924680edeb2c",
   "metadata": {},
   "outputs": [],
   "source": [
    "# Prepare our test data for prediction using the same TF-IDF vectorizer and scaler\n",
    "X_test = vectorizer.transform(testset['plot'])  # Transform test plot descriptions into TF-IDF vectors\n",
    "X_test_scaled = scaler.transform(X_test)  # Scale the test data using the same scaler fitted on the training data\n"
   ]
  },
  {
   "cell_type": "code",
   "execution_count": 18,
   "id": "cd3d2bbb-31a7-45a9-b7e0-9d0e99b32331",
   "metadata": {},
   "outputs": [],
   "source": [
    "# Predict genres for the test set plots\n",
    "predicted_genres = classifier.predict(X_test_scaled)\n",
    "\n"
   ]
  },
  {
   "cell_type": "code",
   "execution_count": 19,
   "id": "b9eeb6aa-d780-4920-9e31-c4dc1e5136ec",
   "metadata": {},
   "outputs": [
    {
     "name": "stdout",
     "output_type": "stream",
     "text": [
      "\n",
      "Predicted genres:\n",
      "[' romance ' ' drama ' ' documentary ' ... ' comedy ' ' short ' ' short ']\n"
     ]
    }
   ],
   "source": [
    "# Display the predicted genres\n",
    "print(\"\\nPredicted genres:\")\n",
    "print(predicted_genres)\n"
   ]
  }
 ],
 "metadata": {
  "kernelspec": {
   "display_name": "Python 3 (ipykernel)",
   "language": "python",
   "name": "python3"
  },
  "language_info": {
   "codemirror_mode": {
    "name": "ipython",
    "version": 3
   },
   "file_extension": ".py",
   "mimetype": "text/x-python",
   "name": "python",
   "nbconvert_exporter": "python",
   "pygments_lexer": "ipython3",
   "version": "3.11.7"
  }
 },
 "nbformat": 4,
 "nbformat_minor": 5
}
